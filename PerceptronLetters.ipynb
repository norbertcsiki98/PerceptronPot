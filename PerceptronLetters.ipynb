{
  "nbformat": 4,
  "nbformat_minor": 0,
  "metadata": {
    "colab": {
      "name": "HbetuIbetu.ipynb",
      "provenance": [],
      "collapsed_sections": []
    },
    "kernelspec": {
      "name": "python3",
      "display_name": "Python 3"
    }
  },
  "cells": [
    {
      "cell_type": "code",
      "metadata": {
        "id": "MGcjn2nCCgL7",
        "colab_type": "code",
        "colab": {}
      },
      "source": [
        "import numpy as np\n",
        "import random"
      ],
      "execution_count": 0,
      "outputs": []
    },
    {
      "cell_type": "code",
      "metadata": {
        "id": "1pkyNxoYCuBI",
        "colab_type": "code",
        "colab": {}
      },
      "source": [
        "betuk = np.array ([[1,1,0,1,1,1,1,1,0,1],[1,0,1,0,0,1,0,0,1,0]])\n",
        "eredmeny =np.array ([[1,0],[0,1]]) \n"
      ],
      "execution_count": 0,
      "outputs": []
    },
    {
      "cell_type": "code",
      "metadata": {
        "id": "mSRpp7SSDRyU",
        "colab_type": "code",
        "colab": {}
      },
      "source": [
        "def hardlim (ertek): \n",
        "  if ertek >= 0:\n",
        "    return 1\n",
        "  else:\n",
        "    return 0"
      ],
      "execution_count": 0,
      "outputs": []
    },
    {
      "cell_type": "code",
      "metadata": {
        "id": "ccQNdVK2DW-z",
        "colab_type": "code",
        "colab": {}
      },
      "source": [
        "def tanitas (bemenet, eredmeny):\n",
        " \n",
        "  N,n = bemenet.shape\n",
        "  lr = 0.01\n",
        "  w1 = np.random.randn(n,1)\n",
        "  w2 = np.random.randn(n,1)\n",
        "  E = 1\n",
        "  while E != 0:\n",
        "    E = 0\n",
        "    for i in range (N):\n",
        "      yi1 = hardlim (np.dot(bemenet[i],w1)) \n",
        "      yi2 = hardlim (np.dot(bemenet[i],w2)) \n",
        "      ei1 = eredmeny[i][0] - yi1\n",
        "      ei2 = eredmeny[i][1] - yi2\n",
        "      \n",
        "      w1 = w1 + lr * ei1 * bemenet[i].reshape(n,1) \n",
        "      w2= w2 + lr * ei2 * bemenet[i].reshape(n,1)\n",
        "      E = E + ei1 ** 2 \n",
        "      E = E + ei2 ** 2\n",
        "  if (yi1 == 0):\n",
        "    print (\"H betu\")\n",
        "  if (yi2 == 1):\n",
        "    print (\"I betu\")\n"
      ],
      "execution_count": 0,
      "outputs": []
    },
    {
      "cell_type": "code",
      "metadata": {
        "id": "9hX8nZEWGeV9",
        "colab_type": "code",
        "outputId": "33c7eaf8-ff29-4426-eed7-96b7d0fc3f27",
        "colab": {
          "base_uri": "https://localhost:8080/",
          "height": 51
        }
      },
      "source": [
        "tanitas (betuk,eredmeny)"
      ],
      "execution_count": 0,
      "outputs": [
        {
          "output_type": "stream",
          "text": [
            "H betu\n",
            "I betu\n"
          ],
          "name": "stdout"
        }
      ]
    },
    {
      "cell_type": "code",
      "metadata": {
        "id": "3IkO_8HuGlb5",
        "colab_type": "code",
        "colab": {}
      },
      "source": [
        ""
      ],
      "execution_count": 0,
      "outputs": []
    }
  ]
}