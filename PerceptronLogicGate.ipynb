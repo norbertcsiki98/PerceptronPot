{
  "nbformat": 4,
  "nbformat_minor": 0,
  "metadata": {
    "colab": {
      "name": "and.ipynb",
      "provenance": [],
      "collapsed_sections": []
    },
    "kernelspec": {
      "name": "python3",
      "display_name": "Python 3"
    }
  },
  "cells": [
    {
      "cell_type": "code",
      "metadata": {
        "id": "OdbH-dvS6Ico",
        "colab_type": "code",
        "colab": {}
      },
      "source": [
        "import numpy as np\n",
        "import random\n",
        "import time\n",
        "import matplotlib.pyplot as plt\n",
        "\n",
        "bemenet = np.array([[0,0,1],[0,1,1],[1,0,1],[1,1,1]])\n",
        "eredmeny = ([0,0,0,1])\n"
      ],
      "execution_count": 0,
      "outputs": []
    },
    {
      "cell_type": "code",
      "metadata": {
        "id": "i8ll7MeX8t8K",
        "colab_type": "code",
        "colab": {}
      },
      "source": [
        "def hardlim (ertek):\n",
        "  if ertek >= 0:\n",
        "    return 1\n",
        "  else:\n",
        "    return 0"
      ],
      "execution_count": 0,
      "outputs": []
    },
    {
      "cell_type": "code",
      "metadata": {
        "id": "l5DtWqdkOxIZ",
        "colab_type": "code",
        "colab": {}
      },
      "source": [
        "def make_figure(bemenet):\n",
        "    plt.scatter(bemenet[:,1],bemenet[:,0])\n",
        "    plt.grid (True)\n",
        "    \n",
        "    "
      ],
      "execution_count": 0,
      "outputs": []
    },
    {
      "cell_type": "code",
      "metadata": {
        "id": "w6_xGEAe8w0X",
        "colab_type": "code",
        "colab": {}
      },
      "source": [
        "\n",
        "def tanitas(bemenet,eredmeny):\n",
        "  \n",
        "  N,n =bemenet.shape\n",
        "  lr = 0.01\n",
        "  w = np.random.randn(n,1)\n",
        "  E = 1\n",
        "  x = np.linspace(-1, 1,50)\n",
        "  \n",
        "  while E!=0:\n",
        "    E=0\n",
        "    for i in range (1,n):\n",
        "      yi = hardlim(np.dot(bemenet[i],w))\n",
        "      ei = eredmeny[i] - yi\n",
        "      w = w + lr*ei*bemenet[i].reshape(n,1)\n",
        "      E = E + ei**2\n",
        "    a = [0, -w[0] / w[2]]\n",
        "    c = [-w[0] / w[1], 0]\n",
        "    m = (a[1] - a[0]) / (c[1] - c[0])\n",
        "  plt.show (make_figure(bemenet))\n",
        "  plt.plot(x,x*m+a[1])\n",
        "  plt.grid (True)\n",
        "  plt.show()\n",
        "\n"
      ],
      "execution_count": 0,
      "outputs": []
    },
    {
      "cell_type": "code",
      "metadata": {
        "id": "4AhwA1ciQBZL",
        "colab_type": "code",
        "colab": {
          "base_uri": "https://localhost:8080/",
          "height": 513
        },
        "outputId": "6a8b16c2-d89b-4d10-9e43-a99bd8618058"
      },
      "source": [
        "tanitas (bemenet, eredmeny)"
      ],
      "execution_count": 40,
      "outputs": [
        {
          "output_type": "display_data",
          "data": {
            "image/png": "[encoded data removed]",
            "text/plain": [
              "<Figure size 432x288 with 1 Axes>"
            ]
          },
          "metadata": {
            "tags": [],
            "needs_background": "light"
          }
        },
        {
          "output_type": "display_data",
          "data": {
            "image/png": "[encoded data removed]",
            "text/plain": [
              "<Figure size 432x288 with 1 Axes>"
            ]
          },
          "metadata": {
            "tags": [],
            "needs_background": "light"
          }
        }
      ]
    }
  ]
}